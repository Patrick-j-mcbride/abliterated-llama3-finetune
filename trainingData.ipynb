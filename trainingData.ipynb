{
 "cells": [
  {
   "cell_type": "markdown",
   "metadata": {},
   "source": [
    "In this notebook we will curate a math dataset avaliable on huggingface: https://huggingface.co/datasets/ajibawa-2023/Maths-College"
   ]
  },
  {
   "cell_type": "code",
   "execution_count": 3,
   "metadata": {},
   "outputs": [
    {
     "data": {
      "application/vnd.jupyter.widget-view+json": {
       "model_id": "db4166601bdc44c79fc2236a41fa7ce6",
       "version_major": 2,
       "version_minor": 0
      },
      "text/plain": [
       "Downloading readme:   0%|          | 0.00/1.73k [00:00<?, ?B/s]"
      ]
     },
     "metadata": {},
     "output_type": "display_data"
    },
    {
     "data": {
      "application/vnd.jupyter.widget-view+json": {
       "model_id": "24362de06cb74977827d81a520b7120a",
       "version_major": 2,
       "version_minor": 0
      },
      "text/plain": [
       "Downloading data:   0%|          | 0.00/835M [00:00<?, ?B/s]"
      ]
     },
     "metadata": {},
     "output_type": "display_data"
    },
    {
     "data": {
      "application/vnd.jupyter.widget-view+json": {
       "model_id": "14e0d5ce4d0a4b87b255da875b545109",
       "version_major": 2,
       "version_minor": 0
      },
      "text/plain": [
       "Downloading data:   0%|          | 0.00/835M [00:00<?, ?B/s]"
      ]
     },
     "metadata": {},
     "output_type": "display_data"
    },
    {
     "data": {
      "application/vnd.jupyter.widget-view+json": {
       "model_id": "2f5407e813ab407b960a75cdf45c8d47",
       "version_major": 2,
       "version_minor": 0
      },
      "text/plain": [
       "Downloading data:   0%|          | 0.00/836M [00:00<?, ?B/s]"
      ]
     },
     "metadata": {},
     "output_type": "display_data"
    },
    {
     "data": {
      "application/vnd.jupyter.widget-view+json": {
       "model_id": "b4996aa538974e82ba1debc6e8e9863f",
       "version_major": 2,
       "version_minor": 0
      },
      "text/plain": [
       "Downloading data:   0%|          | 0.00/834M [00:00<?, ?B/s]"
      ]
     },
     "metadata": {},
     "output_type": "display_data"
    },
    {
     "data": {
      "application/vnd.jupyter.widget-view+json": {
       "model_id": "964a613388a8453699bc54ac2d3d9955",
       "version_major": 2,
       "version_minor": 0
      },
      "text/plain": [
       "Downloading data:   0%|          | 0.00/831M [00:00<?, ?B/s]"
      ]
     },
     "metadata": {},
     "output_type": "display_data"
    },
    {
     "data": {
      "application/vnd.jupyter.widget-view+json": {
       "model_id": "c27b61ab5c6e49809c91e492b434586f",
       "version_major": 2,
       "version_minor": 0
      },
      "text/plain": [
       "Downloading data:   0%|          | 0.00/833M [00:00<?, ?B/s]"
      ]
     },
     "metadata": {},
     "output_type": "display_data"
    },
    {
     "data": {
      "application/vnd.jupyter.widget-view+json": {
       "model_id": "3fcc701671ca4d3a89ec89a04d57f93e",
       "version_major": 2,
       "version_minor": 0
      },
      "text/plain": [
       "Generating train split:   0%|          | 0/969980 [00:00<?, ? examples/s]"
      ]
     },
     "metadata": {},
     "output_type": "display_data"
    },
    {
     "data": {
      "application/vnd.jupyter.widget-view+json": {
       "model_id": "9105fee20c624049aadb2c3a820cb1ac",
       "version_major": 2,
       "version_minor": 0
      },
      "text/plain": [
       "Saving the dataset (0/10 shards):   0%|          | 0/969980 [00:00<?, ? examples/s]"
      ]
     },
     "metadata": {},
     "output_type": "display_data"
    }
   ],
   "source": [
    "# Save the dataset to a local file\n",
    "import datasets as ds\n",
    "\n",
    "# Load the dataset\n",
    "data = ds.load_dataset(\"ajibawa-2023/Maths-College\")\n",
    "data.save_to_disk(\"MathDataset\")"
   ]
  },
  {
   "cell_type": "markdown",
   "metadata": {},
   "source": [
    "Now we will load the dataset and make some small changes to the instructions"
   ]
  },
  {
   "cell_type": "code",
   "execution_count": 38,
   "metadata": {},
   "outputs": [
    {
     "data": {
      "application/vnd.jupyter.widget-view+json": {
       "model_id": "9370ef7f38604a2b99318ff0b559957b",
       "version_major": 2,
       "version_minor": 0
      },
      "text/plain": [
       "Map:   0%|          | 0/969980 [00:00<?, ? examples/s]"
      ]
     },
     "metadata": {},
     "output_type": "display_data"
    },
    {
     "data": {
      "application/vnd.jupyter.widget-view+json": {
       "model_id": "308c3a0b5aee42a3854dc82e95a59a72",
       "version_major": 2,
       "version_minor": 0
      },
      "text/plain": [
       "Saving the dataset (0/10 shards):   0%|          | 0/969980 [00:00<?, ? examples/s]"
      ]
     },
     "metadata": {},
     "output_type": "display_data"
    }
   ],
   "source": [
    "import datasets as ds\n",
    "dts = ds.load_from_disk(\"MathDataset\")\n",
    "def edit_instruction(example):\n",
    "    old_instruction = \"Write an educational piece suited for college students related to the following text snippet:\"\n",
    "    new_instruction = \"Write an educational piece related to the following text snippet:\"\n",
    "    example['context'] = example['instruction'].replace(old_instruction, '')\n",
    "    # remove starting \\n from the context if it exists\n",
    "    if example['context'].startswith('\\n'):\n",
    "        example['context'] = example['context'][1:]\n",
    "    example['instruction'] = new_instruction\n",
    "    return example\n",
    "new_dts = dts.map(edit_instruction)\n",
    "new_dts.save_to_disk(\"MathInstructDataset\")"
   ]
  },
  {
   "cell_type": "markdown",
   "metadata": {},
   "source": [
    "Sweet, now we have a dataset that is suted for instruct model tuning. We will use the `transformers` library to fine-tune a model on this dataset."
   ]
  },
  {
   "cell_type": "markdown",
   "metadata": {},
   "source": [
    "This edited dataset is now on huggingface [Math-instruct-dataset](https://huggingface.co/datasets/patrickjmcbride/math-instruct-dataset)\n"
   ]
  },
  {
   "cell_type": "code",
   "execution_count": 45,
   "metadata": {},
   "outputs": [
    {
     "data": {
      "application/vnd.jupyter.widget-view+json": {
       "model_id": "935136c1b086433ebce2bd05b6bba0a2",
       "version_major": 2,
       "version_minor": 0
      },
      "text/plain": [
       "Downloading readme:   0%|          | 0.00/826 [00:00<?, ?B/s]"
      ]
     },
     "metadata": {},
     "output_type": "display_data"
    },
    {
     "data": {
      "application/vnd.jupyter.widget-view+json": {
       "model_id": "e6df874a9ea34eb6ad1c8af2b08d782e",
       "version_major": 2,
       "version_minor": 0
      },
      "text/plain": [
       "Downloading data:   0%|          | 0.00/245M [00:00<?, ?B/s]"
      ]
     },
     "metadata": {},
     "output_type": "display_data"
    },
    {
     "data": {
      "application/vnd.jupyter.widget-view+json": {
       "model_id": "832d145ef7754c789c9a02bbcc9be18d",
       "version_major": 2,
       "version_minor": 0
      },
      "text/plain": [
       "Downloading data:   0%|          | 0.00/245M [00:00<?, ?B/s]"
      ]
     },
     "metadata": {},
     "output_type": "display_data"
    },
    {
     "data": {
      "application/vnd.jupyter.widget-view+json": {
       "model_id": "b180f03a20f244ff9d9e5671ac4c72e8",
       "version_major": 2,
       "version_minor": 0
      },
      "text/plain": [
       "Downloading data:   0%|          | 0.00/245M [00:00<?, ?B/s]"
      ]
     },
     "metadata": {},
     "output_type": "display_data"
    },
    {
     "data": {
      "application/vnd.jupyter.widget-view+json": {
       "model_id": "11b97d922efa453d980e8eb47567076e",
       "version_major": 2,
       "version_minor": 0
      },
      "text/plain": [
       "Downloading data:   0%|          | 0.00/245M [00:00<?, ?B/s]"
      ]
     },
     "metadata": {},
     "output_type": "display_data"
    },
    {
     "data": {
      "application/vnd.jupyter.widget-view+json": {
       "model_id": "738a2cccef6949ed9889f1cef7450d8e",
       "version_major": 2,
       "version_minor": 0
      },
      "text/plain": [
       "Downloading data:   0%|          | 0.00/245M [00:00<?, ?B/s]"
      ]
     },
     "metadata": {},
     "output_type": "display_data"
    },
    {
     "data": {
      "application/vnd.jupyter.widget-view+json": {
       "model_id": "597d2d6991764ee7b859b6db96a13f50",
       "version_major": 2,
       "version_minor": 0
      },
      "text/plain": [
       "Downloading data:   0%|          | 0.00/245M [00:00<?, ?B/s]"
      ]
     },
     "metadata": {},
     "output_type": "display_data"
    },
    {
     "data": {
      "application/vnd.jupyter.widget-view+json": {
       "model_id": "c4b8e01a2fb24d9999713efc0f42e033",
       "version_major": 2,
       "version_minor": 0
      },
      "text/plain": [
       "Downloading data:   0%|          | 0.00/244M [00:00<?, ?B/s]"
      ]
     },
     "metadata": {},
     "output_type": "display_data"
    },
    {
     "data": {
      "application/vnd.jupyter.widget-view+json": {
       "model_id": "b575a070b9da4d1784db948ce3d2176a",
       "version_major": 2,
       "version_minor": 0
      },
      "text/plain": [
       "Downloading data:   0%|          | 0.00/245M [00:00<?, ?B/s]"
      ]
     },
     "metadata": {},
     "output_type": "display_data"
    },
    {
     "data": {
      "application/vnd.jupyter.widget-view+json": {
       "model_id": "b2ad8871192a48f3bb7e42673c5b073d",
       "version_major": 2,
       "version_minor": 0
      },
      "text/plain": [
       "Downloading data:   0%|          | 0.00/245M [00:00<?, ?B/s]"
      ]
     },
     "metadata": {},
     "output_type": "display_data"
    },
    {
     "data": {
      "application/vnd.jupyter.widget-view+json": {
       "model_id": "e85cf6d00b134bbfb8d315336b19d251",
       "version_major": 2,
       "version_minor": 0
      },
      "text/plain": [
       "Downloading data:   0%|          | 0.00/244M [00:00<?, ?B/s]"
      ]
     },
     "metadata": {},
     "output_type": "display_data"
    },
    {
     "data": {
      "application/vnd.jupyter.widget-view+json": {
       "model_id": "00b88533bec44b1c905de7f6c887cdfe",
       "version_major": 2,
       "version_minor": 0
      },
      "text/plain": [
       "Generating train split:   0%|          | 0/969980 [00:00<?, ? examples/s]"
      ]
     },
     "metadata": {},
     "output_type": "display_data"
    },
    {
     "data": {
      "application/vnd.jupyter.widget-view+json": {
       "model_id": "54db88878e5d4234a0e85461a00af607",
       "version_major": 2,
       "version_minor": 0
      },
      "text/plain": [
       "Saving the dataset (0/10 shards):   0%|          | 0/969980 [00:00<?, ? examples/s]"
      ]
     },
     "metadata": {},
     "output_type": "display_data"
    }
   ],
   "source": [
    "# Load the dataset\n",
    "data = ds.load_dataset(\"patrickjmcbride/math-instruct-dataset\")\n",
    "data.save_to_disk(\"MathInstructDataset\")"
   ]
  },
  {
   "cell_type": "code",
   "execution_count": 46,
   "metadata": {},
   "outputs": [
    {
     "name": "stdout",
     "output_type": "stream",
     "text": [
      "Write an educational piece related to the following text snippet:\n",
      "===============================\n",
      "\"# logical implication\n",
      "\n",
      "## 1 Short version\n",
      "\n",
      "Logical implication is an operation on two logical values, typically the values of two propositions (http://planetmath.org/PropositionalCalculus), that produces a value of false just in case the first operand is true and the second operand is false.\n",
      "\n",
      "The truth table for the logical implication operation that is written as $p\\Rightarrow q$ and read as $p\\ \\operatorname{implies}\\ q\",$ also written as $p\\rightarrow q$ and read as $\\operatorname{if}\\ p\\ \\operatorname{then}\\ q\",$ is as follows:\n",
      "\n",
      " Logical Implication $p$ $q$ $p\\Rightarrow q$ F F T F T T T F F T T T\n",
      "\n",
      "## 2 Long version\n",
      "\n",
      "The mathematical objects that inform our capacity for logical reasoning are easier to describe in a straightforward way than it is to reconcile their traditional accounts. Still, some discussion of the language that occurs in the literature cannot be avoided.\n",
      "\n",
      "The concept of logical implication encompasses a specific logical function, a specific logical relation, and t\"\n",
      "\n",
      "Do not just list concepts, but develop each one in detail before moving to the next, as we prioritize depth of understanding and comprehensive exploration of the subject matter over breadth. Focus on:\n",
      "\n",
      "- Rigor: Ensure in-depth coverage of the concepts/sections.\n",
      "- Engagement: Write with an academic, professional and engaging tone that captivates interest.\n",
      "- Application: Incorporate specific, practical examples, such as proofs in calculus or critical dates and figures in history.\n",
      "Do not include a title or an introduction, simply write the content without headlines and introductory phrases. Do not use images.\n",
      "===============================\n",
      " Logical implication is a fundamental concept in logic and mathematics, which represents a specific type of relationship between two statements or propositions. At its core, logical implication refers to the idea that if a certain proposition is true, then another proposition must also be true. This relationship can be expressed using various symbols and notation, including $p \to rightarrow q$, $p \to longrightarrow q$, or $p \to implies q$. These symbols represent the conditional statement \"if p, then q.\"\n",
      "\n",
      "To fully understand logical implication, let's examine its components more closely. We will begin by exploring the notion of logical values and how they relate to propositions. Next, we will discuss the concept of operations on these values and introduce the truth table as a tool for visualizing the outcomes of different combinations of logical values. Finally, we will delve into the specific operation of logical implication, examining its properties, symbolic representation, and real-world applications.\n",
      "\n",
      "### Logical Values and Propositions\n",
      "\n",
      "At the foundation of logical systems lies the concept of a proposition - a declarative sentence that conveys a factual claim about something, either true or false. For example, consider the sentences \"Today is Tuesday,\" \"Paris is the capital of France,\" and \"$5 + 7 = 12.$\" Each of these sentences expresses a definite claim about reality; consequently, they can be classified as either true or false based on whether the claim holds up under scrutiny. A proposition that has been definitively established as true is known as a theorem, while a false proposition is referred to as a contradiction.\n",
      "\n",
      "In contrast to propositions, variables do not convey any inherent meaning and instead serve as placeholders for potential propositions. When working within a formal system, mathematicians often assign letters like p, q, r, etc., to represent arbitrary propositions. By doing so, they enable algebraic manipulation and analysis of relationships among multiple propositions simultaneously.\n",
      "\n",
      "Now that we have defined propositions and variables, let us turn our attention to logical values. There exist precisely two distinct logical values, corresponding to the binary categories of true (T) and false (F). As mentioned earlier, every proposition possesses one of these two values depending on the validity of its underlying claim. Variables, too, assume one of these values when assigned specific propositions during problem solving or theoretical development.\n",
      "\n",
      "### Operations on Logical Values\n",
      "\n",
      "An essential aspect of logical systems involves performing operations on logical values to form new propositions from existing ones. Just as arithmetic functions combine numerical quantities through addition, subtraction, multiplication, division, and other processes, logical operators take one or more logical values as inputs and produce another logical value as output. The resultant value depends solely upon the input values and does not vary regardless of context or interpretation.\n",
      "\n",
      "There are several basic logical operations worth noting here. Firstly, negation (¬) reverses the truth value of a given proposition. If applied to a true proposition, negation yields a false outcome, whereas negating a false proposition results in a true conclusion. Mathematically, this can be represented as:\n",
      "\n",
      "* ¬T = F\n",
      "* ¬F = T\n",
      "\n",
      "Next, conjunction (&) combines two propositions such that both must hold true concurrently for the resulting compound proposition to evaluate as true. Otherwise, if either or both component propositions are false, the overall assertion evaluates as false. Symbolically, this corresponds to:\n",
      "\n",
      "* T & T = T\n",
      "* T & F = F\n",
      "* F & T = F\n",
      "* F & F = F\n",
      "\n",
      "Disjunction (∨) presents another important logical operation, connecting two propositions so that at least one needs to be true for the entire construct to assess as true. Only when all constituents prove false does disjunction yield a false outcome. Its symbolic representations follow:\n",
      "\n",
      "* T ∨ T = T\n",
      "* T ∨ F = T\n",
      "* F ∨ T = T\n",
      "* F ∨ F = F\n",
      "\n",
      "Finally, exclusive disjunction (XOR) differs slightly from standard disjunction since it precludes the possibility of both operands being true simultaneously. Consequently, there exists exactly one true condition out of four possible scenarios:\n",
      "\n",
      "* T XOR T = F\n",
      "* T XOR F = T\n",
      "* F XOR T = T\n",
      "* F XOR F = F\n",
      "\n",
      "These elementary operations lay the groundwork for further examination of complex logical structures involving numerous interrelated propositions. Now that we have discussed the basics of logical values and simple operations, we shall proceed by introducing the truth table as a valuable tool for analyzing and organizing information pertaining to logical expressions.\n",
      "\n",
      "### Truth Tables\n",
      "\n",
      "A truth table serves as an organized chart displaying all conceivable configurations of logical values attainable by a collection of propositions connected via various operations. It provides a systematic method for determining the truth or falsity of compound propositions derived from simpler elements. Generally speaking, creating a truth table entails listing every combination of logical values for involved variables followed by sequential application of relevant logical operations until reaching the final column representing the ultimate outcome.\n",
      "\n",
      "For instance, consider the expression (p & q) ∨ ¬r, where p, q, and r denote three distinct propositions. To create a truth table illustrating the behavior of this formula, we would initially record every permutation of T and F values across columns labeled p, q, and r. Subsequent columns correspond to increasingly intricate expressions formed by combining initial variables according to specified rules. Ultimately, the concluding segment exhibits the resulting truth values obtained after iteratively applying required operations throughout the process.\n",
      "\n",
      "Herein lies an exemplary truth table demonstrating the previously stated expression:\n",
      "\n",
      "| p | q | r | p & q | ¬r | (p & q) ∨ ¬r |\n",
      "|---|---|---|-------|-----|--------------|\n",
      "| T | T | T |   T   |  F  |      T       |\n",
      "| T | T | F |   T   |  T  |      T       |\n",
      "| T | F | T |   F   |  F  |      T       |\n",
      "| T | F | F |   F   |  T  |      T       |\n",
      "| F | T | T |   T   |  F  |      T       |\n",
      "| F | T | F |   F   |  T  |      T       |\n",
      "| F | F | T |   F   |  F  |      T       |\n",
      "| F | F | F |   F   |  T  |      T       |\n",
      "\n",
      "As demonstrated above, truth tables offer a clear visualization of how varying combinations of logical values impact the evaluation of composite propositions. Moreover, they provide insight into crucial aspects of logical relationships, enabling analysts to discern patterns and trends within data sets. Armed with this knowledge, we now move forward to explore the central topic of this exposition: logical implication.\n",
      "\n",
      "### Logical Implication Revisited\n",
      "\n",
      "Having laid the necessary background, we return to our original focus: logical implication. Recall that logical implication signifies a particular connection between two propositions such that if the antecedent (initial proposition) is accurate, then the consequent (subsequent proposition) must likewise be correct. Stated differently, logical implication embodies the principle that a given premise warrants a specific conclusion provided no exceptions arise.\n",
      "\n",
      "Symbolically, logical implication can be denoted using various notations, most commonly as $p \to Rightarrow q$, $p \to longrightarrow q$, or $p \to implies q$; however, irrespective of chosen convention, each variant denotes the same conditional statement: \"if p, then q.\"\n",
      "\n",
      "Before diving deeper into the nuances surrounding logical implication, let us revisit the foundational definition presented near the beginning of this article. Specifically, recall the truth table associated with logical implication:\n",
      "\n",
      "| p    | q     | p \to Rightarrow q |\n",
      "|---    | ---    | ---              |\n",
      "| F    | F     | T                |\n",
      "| F    | T     | T                |\n",
      "| T    | F     | F                |\n",
      "| T    | T     | T                |\n",
      "\n",
      "This table reveals an interesting property concerning logical implication: whenever the antecedent proves false, the entire statement automatically evaluates as true. This characteristic stems directly from the nature of logical implication itself, wherein the accuracy of the consequent hinges entirely upon the veracity of the antecedent. Thus, should the former happen to be erroneous, the latter carries no implications regarding the validity of the subsequent proposition.\n",
      "\n",
      "Conversely, if the antecedent indeed holds merit, only then does the consequent's status become relevant. Under such circumstances, the entire conditional statement assumes the truth value ascribed to the consequent. Therefore, it becomes apparent that logical implication operates asymmetrically, privileging the role played by the antecedent relative to the consequent.\n",
      "\n",
      "### Material Conditional vs. Strict Implication\n",
      "\n",
      "When discussing logical implication, it is crucial to distinguish between material conditional and strict implication. Although sharing similarities superficially, these two concepts differ significantly in terms of scope and applicability.\n",
      "\n",
      "Material conditional constitutes a weakened form of implication asserting that the consequent holds true provided the antecedent does not violate said assertion. Put differently, material conditional merely maintains that the consequent remains unchallenged by the antecedent rather than actively endorsing its accuracy. This interpretation aligns closely with classical Boolean logic, adhering strictly to the principles outlined thus far.\n",
      "\n",
      "Strict implication, conversely, demands stronger criteria for establishing a valid linkage between antecedent and consequent. More specifically, strict implication necessitates that the consequent logically ensues from the antecedent, implying that the former emerges necessarily and inevitably due to the latter. Consequently, instances of strict implication tend to reflect metaphysical or epistemological connections between propositions rather than purely syntactic associations rooted in linguistic structure alone.\n",
      "\n",
      "It bears mentioning that many contemporary logicians reject strict implication altogether, viewing it as an unnecessary complication lacking robust empirical support. Nonetheless, acknowledgment of its existence remains vital for comprehending historical developments within philosophical thought, particularly in fields like modal logic and intensional semantics.\n",
      "\n",
      "### Applications of Logical Implication\n",
      "\n",
      "Throughout this discourse, we have examined diverse facets of logical implication, elucidating its significance within broader mathematical and philosophical contexts. Indeed, logical implication finds extensive usage across numerous disciplines, serving as a cornerstone upon which countless theories and frameworks rest. Herein lie several representative examples highlighting the versatility and ubiquity of logical implication in practice:\n",
      "\n",
      "#### Mathematical Proofs\n",
      "\n",
      "Within mathematics, logical implication forms the backbone of rigorous deductive argumentation, providing a coherent means of relating disparate claims and establishing novel conclusions. Consider, for instance, Euclidean geometry, where chains of logical implications connect seemingly unrelated postulates and definitions to generate powerful geometric theorems. By chaining together successive conditional statements, mathematicians construct watertight arguments devoid\n"
     ]
    }
   ],
   "source": [
    "mid = ds.load_from_disk(\"MathInstructDataset\")\n",
    "print(mid['train'][0]['instruction'])\n",
    "print(\"===============================\")\n",
    "print(mid['train'][0]['context'])\n",
    "print(\"===============================\")\n",
    "print(mid['train'][0]['output'])"
   ]
  },
  {
   "cell_type": "markdown",
   "metadata": {},
   "source": [
    "This is all for this notebook, head to finetune.ipynb to continue the process"
   ]
  }
 ],
 "metadata": {
  "kernelspec": {
   "display_name": "Python 3",
   "language": "python",
   "name": "python3"
  },
  "language_info": {
   "codemirror_mode": {
    "name": "ipython",
    "version": 3
   },
   "file_extension": ".py",
   "mimetype": "text/x-python",
   "name": "python",
   "nbconvert_exporter": "python",
   "pygments_lexer": "ipython3",
   "version": "3.11.9"
  }
 },
 "nbformat": 4,
 "nbformat_minor": 2
}
