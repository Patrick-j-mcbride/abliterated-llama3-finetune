{
 "cells": [
  {
   "cell_type": "markdown",
   "metadata": {},
   "source": [
    "In this notebook we will curate a math dataset avaliable on huggingface: https://huggingface.co/datasets/ajibawa-2023/Maths-College"
   ]
  },
  {
   "cell_type": "code",
   "execution_count": null,
   "metadata": {},
   "outputs": [],
   "source": [
    "# Save the dataset to a local file\n",
    "import datasets as ds\n",
    "\n",
    "# Load the dataset\n",
    "data = ds.load_dataset(\"ajibawa-2023/Maths-College\")\n",
    "data.save_to_disk(\"MathDataset\")"
   ]
  },
  {
   "cell_type": "markdown",
   "metadata": {},
   "source": [
    "Now we will load the dataset and make some small changes to the instructions"
   ]
  },
  {
   "cell_type": "code",
   "execution_count": null,
   "metadata": {},
   "outputs": [],
   "source": [
    "import datasets as ds\n",
    "dts = ds.load_from_disk(\"MathDataset\")\n",
    "def edit_instruction(example):\n",
    "    old_instruction = \"Write an educational piece suited for college students related to the following text snippet:\"\n",
    "    new_instruction = \"Write an educational piece related to the following text snippet:\"\n",
    "    example['context'] = example['instruction'].replace(old_instruction, '')\n",
    "    # remove starting \\n from the context if it exists\n",
    "    if example['context'].startswith('\\n'):\n",
    "        example['context'] = example['context'][1:]\n",
    "    example['instruction'] = new_instruction\n",
    "    return example\n",
    "new_dts = dts.map(edit_instruction)\n",
    "new_dts.save_to_disk(\"MathInstructDataset\")"
   ]
  },
  {
   "cell_type": "markdown",
   "metadata": {},
   "source": [
    "Sweet, now we have a dataset that is suted for instruct model tuning. We will use the `transformers` library to fine-tune a model on this dataset."
   ]
  },
  {
   "cell_type": "markdown",
   "metadata": {},
   "source": [
    "This edited dataset is now on huggingface [Math-instruct-dataset](https://huggingface.co/datasets/patrickjmcbride/math-instruct-dataset)\n",
    "\n",
    "It has a 75/25 train/test split"
   ]
  },
  {
   "cell_type": "code",
   "execution_count": null,
   "metadata": {},
   "outputs": [],
   "source": [
    "# Load the dataset\n",
    "data = ds.load_dataset(\"patrickjmcbride/math-instruct-dataset\")\n",
    "data.save_to_disk(\"MathInstructDataset\")"
   ]
  },
  {
   "cell_type": "markdown",
   "metadata": {},
   "source": [
    "This is all for this notebook, head to finetune.ipynb to continue the process"
   ]
  }
 ],
 "metadata": {
  "kernelspec": {
   "display_name": "Python 3",
   "language": "python",
   "name": "python3"
  },
  "language_info": {
   "codemirror_mode": {
    "name": "ipython",
    "version": 3
   },
   "file_extension": ".py",
   "mimetype": "text/x-python",
   "name": "python",
   "nbconvert_exporter": "python",
   "pygments_lexer": "ipython3",
   "version": "3.11.9"
  }
 },
 "nbformat": 4,
 "nbformat_minor": 2
}
