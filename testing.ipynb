{
 "cells": [
  {
   "cell_type": "markdown",
   "metadata": {},
   "source": [
    "Original Model + Fine-Tune Adapter"
   ]
  },
  {
   "cell_type": "code",
   "execution_count": 1,
   "metadata": {},
   "outputs": [
    {
     "name": "stderr",
     "output_type": "stream",
     "text": [
      "The `load_in_4bit` and `load_in_8bit` arguments are deprecated and will be removed in the future versions. Please, pass a `BitsAndBytesConfig` object in `quantization_config` argument instead.\n",
      "`low_cpu_mem_usage` was None, now set to True since model is quantized.\n"
     ]
    },
    {
     "data": {
      "application/vnd.jupyter.widget-view+json": {
       "model_id": "e5d3efef1dda4d2b8d6cf36681ef943b",
       "version_major": 2,
       "version_minor": 0
      },
      "text/plain": [
       "Loading checkpoint shards:   0%|          | 0/4 [00:00<?, ?it/s]"
      ]
     },
     "metadata": {},
     "output_type": "display_data"
    },
    {
     "name": "stderr",
     "output_type": "stream",
     "text": [
      "Special tokens have been added in the vocabulary, make sure the associated word embeddings are fine-tuned or trained.\n",
      "Setting `pad_token_id` to `eos_token_id`:128001 for open-end generation.\n",
      "/home/pat/miniforge3/envs/finetune/lib/python3.11/site-packages/bitsandbytes/nn/modules.py:426: UserWarning: Input type into Linear4bit is torch.float16, but bnb_4bit_compute_dtype=torch.float32 (default). This will lead to slow inference or training speed.\n",
      "  warnings.warn(\n"
     ]
    },
    {
     "name": "stdout",
     "output_type": "stream",
     "text": [
      "  Systems of linear equations can be solved using the method of substitution, which involves substituting one equation into the other to eliminate one of the variables. This approach is particularly useful when one of the equations is easily solvable for one of the variables, and the other equation can be expressed in terms of the eliminated variable. To begin, let's consider a system of two linear equations in two variables, x and y: 2x + 3y = 12, and x - 2y = -3. The first equation is easily solvable for x, as it can be rewritten as x = 12 - 3y. Substituting this expression for x into the second equation, we obtain -3 - 2y = -3, or y = 0. Now that we have eliminated the variable y, we can substitute this value back into the expression for x to find its value: x = 12 - 3(0) = 12. Therefore, the solution to the system is x = 12 and y = 0. This method of substitution can be applied to systems of linear equations in general, as long as one of the equations is easily solvable for one of the variables and the other equation can be expressed in terms of the eliminated variable. For instance, consider the system of equations x + 2y = 5 and 3x - y = 2. The first equation is easily solvable for x, as it can be rewritten as x = 5 - 2y. Substituting this expression for x into the second equation, we obtain 5 - 2y - y = 2, or 2y = -3, or y = -3/2. Now that we have eliminated the variable y, we can substitute this value back into the expression for x to find its value: x = 5 - 2(-3/2) = 11/2. Therefore, the solution to the system is x = 11/2 and y = -3/2. In this example, we have eliminated the variable y by substituting its value back into the expression for x, and the resulting values for x and y form the solution to the system. By applying this method of substitution to systems of linear equations in general, we can solve for the variables and find the solution. The method of substitution is a powerful tool for solving systems of linear equations, and it can be applied to a wide range of problems in various fields. By\n"
     ]
    }
   ],
   "source": [
    "import os\n",
    "os.environ[\"CUDA_VISIBLE_DEVICES\"] = \"0\"\n",
    "import torch\n",
    "from transformers import AutoTokenizer, LlamaForCausalLM\n",
    "from peft import LoraConfig, get_peft_model\n",
    "\n",
    "model = LlamaForCausalLM.from_pretrained(\"failspy/Meta-Llama-3-8B-Instruct-abliterated-v3\", load_in_4bit=True, torch_dtype=torch.float16)\n",
    "\n",
    "lora_config = LoraConfig.from_pretrained('Meta-Llama-3-8B-Instruct-abliterated-math-v0.2')\n",
    "\n",
    "model = get_peft_model(model, lora_config)\n",
    "\n",
    "tokenizer = AutoTokenizer.from_pretrained(\"Meta-Llama-3-8B-Instruct-abliterated-math-v0.2\")\n",
    "\n",
    "text = \"\"\"Below is an instruction that describes a task, paired with an input that provides further context. Write a response that appropriately completes the request. ### Instruction: Write an educational piece related to the following text snippet: ### Input: Systems Using Substitution. What if you were given a system of linear equations? How could you substitute one equation into the other to solve for the variables? Guidance In this lesson, we’ll learn to solve a system of two equations using the method of substitution. Solving\" Do not just list concepts, but develop each one in detail before moving to the next, as we prioritize depth of understanding and comprehensive exploration of the subject matter over breadth. Focus on: - Rigor: Ensure in-depth coverage of the concepts/sections. - Engagement: Write with an academic, professional and engaging tone that captivates interest. - Application: Incorporate specific, practical examples, such as proofs in calculus or critical dates and figures in history. Do not include a title or an introduction, simply write the content without headlines and introductory phrases. ### Response: \"\"\"\n",
    "inputs = tokenizer(text, return_tensors=\"pt\").to(\"cuda\")\n",
    "outputs = model.generate(**inputs, max_new_tokens=512)\n",
    "\n",
    "response = tokenizer.decode(outputs[0], skip_special_tokens=False)\n",
    "print(response.split('### Response:')[1])"
   ]
  },
  {
   "cell_type": "markdown",
   "metadata": {},
   "source": [
    "Original"
   ]
  },
  {
   "cell_type": "code",
   "execution_count": 1,
   "metadata": {},
   "outputs": [
    {
     "name": "stderr",
     "output_type": "stream",
     "text": [
      "The `load_in_4bit` and `load_in_8bit` arguments are deprecated and will be removed in the future versions. Please, pass a `BitsAndBytesConfig` object in `quantization_config` argument instead.\n",
      "`low_cpu_mem_usage` was None, now set to True since model is quantized.\n"
     ]
    },
    {
     "data": {
      "application/vnd.jupyter.widget-view+json": {
       "model_id": "c423329e54fd4371a5cd1bf8029b3925",
       "version_major": 2,
       "version_minor": 0
      },
      "text/plain": [
       "Loading checkpoint shards:   0%|          | 0/4 [00:00<?, ?it/s]"
      ]
     },
     "metadata": {},
     "output_type": "display_data"
    },
    {
     "name": "stderr",
     "output_type": "stream",
     "text": [
      "Special tokens have been added in the vocabulary, make sure the associated word embeddings are fine-tuned or trained.\n",
      "Setting `pad_token_id` to `eos_token_id`:128001 for open-end generation.\n"
     ]
    },
    {
     "name": "stdout",
     "output_type": "stream",
     "text": [
      "  When faced with a system of linear equations, one effective method for solving is substitution. This approach involves using one equation to eliminate a variable, allowing us to solve for the remaining variable, and subsequently find the solution for the other variable. To begin, we need to choose one of the equations and solve for one of the variables. Let’s assume we have the system of equations: a1x + b1y = c1 and a2x + b2y = c2. We can select the first equation and solve for x: x = (c1 - b1y) / a1. Now, we can substitute this expression for x into the second equation: a2((c1 - b1y) / a1) + b2y = c2. To simplify this equation, we can start by multiplying both sides by a1 to eliminate the fraction: a2c1 - a2b1y + b2y = c2a1. Next, we can combine like terms: a2c1 + (b2 - a2b1)y = c2a1. This equation is now in the form of a linear equation in y, and we can solve for y: y = (c2a1 - a2c1) / (b2 - a2b1). Once we have found the value of y, we can substitute this expression back into one of the original equations to find the value of x. For instance, we can use the first equation: x = (c1 - b1y) / a1. Substituting the expression for y, we get: x = (c1 - b1((c2a1 - a2c1) / (b2 - a2b1))) / a1. Simplifying this expression, we can find the value of x. By combining these values of x and y, we have solved the system of linear equations using the method of substitution. This method is particularly useful when one of the equations is simpler than the other, as it allows us to eliminate the more complex variable and focus on solving for the remaining variable. In conclusion, the method of substitution is a powerful tool for solving systems of linear equations. By carefully following the steps outlined above, we can successfully eliminate variables and find the solution to the system. With practice and patience, this method can be applied to a wide range of problems, from simple systems to more complex equations in higher-level mathematics.  Please note that this response\n"
     ]
    }
   ],
   "source": [
    "import os\n",
    "os.environ[\"CUDA_VISIBLE_DEVICES\"] = \"0\"\n",
    "import torch\n",
    "from transformers import AutoTokenizer, LlamaForCausalLM\n",
    "\n",
    "model = LlamaForCausalLM.from_pretrained(\"failspy/Meta-Llama-3-8B-Instruct-abliterated-v3\", load_in_8bit=True, torch_dtype=torch.float16)\n",
    "\n",
    "tokenizer = AutoTokenizer.from_pretrained(\"failspy/Meta-Llama-3-8B-Instruct-abliterated-v3\")\n",
    "\n",
    "text = \"\"\"Below is an instruction that describes a task, paired with an input that provides further context. Write a response that appropriately completes the request. ### Instruction: Write an educational piece related to the following text snippet: ### Input: Systems Using Substitution. What if you were given a system of linear equations? How could you substitute one equation into the other to solve for the variables? Guidance In this lesson, we’ll learn to solve a system of two equations using the method of substitution. Solving\" Do not just list concepts, but develop each one in detail before moving to the next, as we prioritize depth of understanding and comprehensive exploration of the subject matter over breadth. Focus on: - Rigor: Ensure in-depth coverage of the concepts/sections. - Engagement: Write with an academic, professional and engaging tone that captivates interest. - Application: Incorporate specific, practical examples, such as proofs in calculus or critical dates and figures in history. Do not include a title or an introduction, simply write the content without headlines and introductory phrases. ### Response: \"\"\"\n",
    "inputs = tokenizer(text, return_tensors=\"pt\").to(\"cuda\")\n",
    "outputs = model.generate(**inputs, max_new_tokens=512)\n",
    "\n",
    "response = tokenizer.decode(outputs[0], skip_special_tokens=True)\n",
    "print(response.split('### Response:')[1])"
   ]
  }
 ],
 "metadata": {
  "kernelspec": {
   "display_name": "Python 3",
   "language": "python",
   "name": "python3"
  },
  "language_info": {
   "codemirror_mode": {
    "name": "ipython",
    "version": 3
   },
   "file_extension": ".py",
   "mimetype": "text/x-python",
   "name": "python",
   "nbconvert_exporter": "python",
   "pygments_lexer": "ipython3",
   "version": "3.11.9"
  }
 },
 "nbformat": 4,
 "nbformat_minor": 2
}
