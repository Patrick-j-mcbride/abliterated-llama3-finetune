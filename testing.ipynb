{
 "cells": [
  {
   "cell_type": "markdown",
   "metadata": {},
   "source": [
    "Original Model + Fine-Tune Adapter"
   ]
  },
  {
   "cell_type": "code",
   "execution_count": 2,
   "metadata": {},
   "outputs": [
    {
     "name": "stderr",
     "output_type": "stream",
     "text": [
      "The `load_in_4bit` and `load_in_8bit` arguments are deprecated and will be removed in the future versions. Please, pass a `BitsAndBytesConfig` object in `quantization_config` argument instead.\n",
      "`low_cpu_mem_usage` was None, now set to True since model is quantized.\n"
     ]
    },
    {
     "data": {
      "application/vnd.jupyter.widget-view+json": {
       "model_id": "7f55778cdc5d430297e1bf5cde6366cf",
       "version_major": 2,
       "version_minor": 0
      },
      "text/plain": [
       "Loading checkpoint shards:   0%|          | 0/4 [00:00<?, ?it/s]"
      ]
     },
     "metadata": {},
     "output_type": "display_data"
    },
    {
     "name": "stderr",
     "output_type": "stream",
     "text": [
      "Special tokens have been added in the vocabulary, make sure the associated word embeddings are fine-tuned or trained.\n",
      "Setting `pad_token_id` to `eos_token_id`:128001 for open-end generation.\n"
     ]
    },
    {
     "name": "stdout",
     "output_type": "stream",
     "text": [
      "  When faced with a system of linear equations, the method of substitution can be a powerful tool for solving for the variables. The process begins by solving one of the equations for one of the variables, typically denoted as x or y. For instance, let’s say we have the system of equations 2x + 3y = 5 and x - 2y = -3. We can solve the first equation for x by subtracting 3y from both sides, yielding x = 5 - 3y. Next, we substitute this expression for x into the second equation, which becomes 5 - 3y - 2y = -3. Combining like terms, we obtain -5y = -8, and solving for y yields y = 8/5. Now that we have the value of y, we can substitute it back into one of the original equations to find the value of x. In this case, we can use the first equation, which becomes 2x + 3(8/5) = 5. Simplifying, we get 2x + 24/5 = 5, and subtracting 24/5 from both sides yields 2x = 13/5. Finally, dividing both sides by 2 gives us the value of x, which is x = 13/10. Therefore, the solution to the system is x = 13/10 and y = 8/5. The method of substitution can be applied to systems of any size, as long as one of the equations can be solved for one of the variables. It is essential to note that this method is not always the most efficient or practical approach, as it may require more steps and calculations than other methods, such as elimination or matrix inversion. However, it can be a valuable tool in specific situations, particularly when one equation is more easily solvable than the others. In conclusion, the method of substitution is a powerful technique for solving systems of linear equations, and it can be applied to a wide range of problems. By following the steps outlined above and practicing the method, students can develop a deeper understanding of systems of linear equations and improve their ability to solve them.  Please let me know if you would like me to make any changes. I am open to feedback and suggestions. Thank you for your time. Best regards, [Your Name].  I hope this meets your expectations. If you have any further requests or need any modifications, please do not hesitate to ask\n"
     ]
    }
   ],
   "source": [
    "import os\n",
    "os.environ[\"CUDA_VISIBLE_DEVICES\"] = \"0\"\n",
    "import torch\n",
    "from transformers import AutoTokenizer, LlamaForCausalLM\n",
    "from peft import LoraConfig, get_peft_model\n",
    "\n",
    "model = LlamaForCausalLM.from_pretrained(\"failspy/Meta-Llama-3-8B-Instruct-abliterated-v3\", load_in_8bit=True, torch_dtype=torch.float16)\n",
    "\n",
    "lora_config = LoraConfig.from_pretrained('Meta-Llama-3-8B-Instruct-abliterated-math-v0')\n",
    "\n",
    "model = get_peft_model(model, lora_config)\n",
    "\n",
    "tokenizer = AutoTokenizer.from_pretrained(\"Meta-Llama-3-8B-Instruct-abliterated-math-v0\")\n",
    "\n",
    "text = \"\"\"Below is an instruction that describes a task, paired with an input that provides further context. Write a response that appropriately completes the request. ### Instruction: Write an educational piece related to the following text snippet: ### Input: Systems Using Substitution. What if you were given a system of linear equations? How could you substitute one equation into the other to solve for the variables? Guidance In this lesson, we’ll learn to solve a system of two equations using the method of substitution. Solving\" Do not just list concepts, but develop each one in detail before moving to the next, as we prioritize depth of understanding and comprehensive exploration of the subject matter over breadth. Focus on: - Rigor: Ensure in-depth coverage of the concepts/sections. - Engagement: Write with an academic, professional and engaging tone that captivates interest. - Application: Incorporate specific, practical examples, such as proofs in calculus or critical dates and figures in history. Do not include a title or an introduction, simply write the content without headlines and introductory phrases. ### Response: \"\"\"\n",
    "inputs = tokenizer(text, return_tensors=\"pt\").to(\"cuda\")\n",
    "outputs = model.generate(**inputs, max_new_tokens=512)\n",
    "\n",
    "response = tokenizer.decode(outputs[0], skip_special_tokens=True)\n",
    "print(response.split('### Response:')[1])"
   ]
  },
  {
   "cell_type": "markdown",
   "metadata": {},
   "source": [
    "Original"
   ]
  },
  {
   "cell_type": "code",
   "execution_count": 1,
   "metadata": {},
   "outputs": [
    {
     "name": "stderr",
     "output_type": "stream",
     "text": [
      "The `load_in_4bit` and `load_in_8bit` arguments are deprecated and will be removed in the future versions. Please, pass a `BitsAndBytesConfig` object in `quantization_config` argument instead.\n",
      "`low_cpu_mem_usage` was None, now set to True since model is quantized.\n"
     ]
    },
    {
     "data": {
      "application/vnd.jupyter.widget-view+json": {
       "model_id": "c423329e54fd4371a5cd1bf8029b3925",
       "version_major": 2,
       "version_minor": 0
      },
      "text/plain": [
       "Loading checkpoint shards:   0%|          | 0/4 [00:00<?, ?it/s]"
      ]
     },
     "metadata": {},
     "output_type": "display_data"
    },
    {
     "name": "stderr",
     "output_type": "stream",
     "text": [
      "Special tokens have been added in the vocabulary, make sure the associated word embeddings are fine-tuned or trained.\n",
      "Setting `pad_token_id` to `eos_token_id`:128001 for open-end generation.\n"
     ]
    },
    {
     "name": "stdout",
     "output_type": "stream",
     "text": [
      "  When faced with a system of linear equations, one effective method for solving is substitution. This approach involves using one equation to eliminate a variable, allowing us to solve for the remaining variable, and subsequently find the solution for the other variable. To begin, we need to choose one of the equations and solve for one of the variables. Let’s assume we have the system of equations: a1x + b1y = c1 and a2x + b2y = c2. We can select the first equation and solve for x: x = (c1 - b1y) / a1. Now, we can substitute this expression for x into the second equation: a2((c1 - b1y) / a1) + b2y = c2. To simplify this equation, we can start by multiplying both sides by a1 to eliminate the fraction: a2c1 - a2b1y + b2y = c2a1. Next, we can combine like terms: a2c1 + (b2 - a2b1)y = c2a1. This equation is now in the form of a linear equation in y, and we can solve for y: y = (c2a1 - a2c1) / (b2 - a2b1). Once we have found the value of y, we can substitute this expression back into one of the original equations to find the value of x. For instance, we can use the first equation: x = (c1 - b1y) / a1. Substituting the expression for y, we get: x = (c1 - b1((c2a1 - a2c1) / (b2 - a2b1))) / a1. Simplifying this expression, we can find the value of x. By combining these values of x and y, we have solved the system of linear equations using the method of substitution. This method is particularly useful when one of the equations is simpler than the other, as it allows us to eliminate the more complex variable and focus on solving for the remaining variable. In conclusion, the method of substitution is a powerful tool for solving systems of linear equations. By carefully following the steps outlined above, we can successfully eliminate variables and find the solution to the system. With practice and patience, this method can be applied to a wide range of problems, from simple systems to more complex equations in higher-level mathematics.  Please note that this response\n"
     ]
    }
   ],
   "source": [
    "import os\n",
    "os.environ[\"CUDA_VISIBLE_DEVICES\"] = \"0\"\n",
    "import torch\n",
    "from transformers import AutoTokenizer, LlamaForCausalLM\n",
    "\n",
    "model = LlamaForCausalLM.from_pretrained(\"failspy/Meta-Llama-3-8B-Instruct-abliterated-v3\", load_in_8bit=True, torch_dtype=torch.float16)\n",
    "\n",
    "tokenizer = AutoTokenizer.from_pretrained(\"failspy/Meta-Llama-3-8B-Instruct-abliterated-v3\")\n",
    "\n",
    "text = \"\"\"Below is an instruction that describes a task, paired with an input that provides further context. Write a response that appropriately completes the request. ### Instruction: Write an educational piece related to the following text snippet: ### Input: Systems Using Substitution. What if you were given a system of linear equations? How could you substitute one equation into the other to solve for the variables? Guidance In this lesson, we’ll learn to solve a system of two equations using the method of substitution. Solving\" Do not just list concepts, but develop each one in detail before moving to the next, as we prioritize depth of understanding and comprehensive exploration of the subject matter over breadth. Focus on: - Rigor: Ensure in-depth coverage of the concepts/sections. - Engagement: Write with an academic, professional and engaging tone that captivates interest. - Application: Incorporate specific, practical examples, such as proofs in calculus or critical dates and figures in history. Do not include a title or an introduction, simply write the content without headlines and introductory phrases. ### Response: \"\"\"\n",
    "inputs = tokenizer(text, return_tensors=\"pt\").to(\"cuda\")\n",
    "outputs = model.generate(**inputs, max_new_tokens=512)\n",
    "\n",
    "response = tokenizer.decode(outputs[0], skip_special_tokens=True)\n",
    "print(response.split('### Response:')[1])"
   ]
  }
 ],
 "metadata": {
  "kernelspec": {
   "display_name": "Python 3",
   "language": "python",
   "name": "python3"
  },
  "language_info": {
   "codemirror_mode": {
    "name": "ipython",
    "version": 3
   },
   "file_extension": ".py",
   "mimetype": "text/x-python",
   "name": "python",
   "nbconvert_exporter": "python",
   "pygments_lexer": "ipython3",
   "version": "3.11.9"
  }
 },
 "nbformat": 4,
 "nbformat_minor": 2
}
